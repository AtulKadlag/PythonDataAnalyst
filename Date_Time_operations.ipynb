{
 "cells": [
  {
   "cell_type": "code",
   "execution_count": 64,
   "id": "43f0c9dc",
   "metadata": {},
   "outputs": [],
   "source": [
    "import pandas as pd\n",
    "import datetime as dt\n"
   ]
  },
  {
   "cell_type": "code",
   "execution_count": 67,
   "id": "9bd546c3",
   "metadata": {},
   "outputs": [],
   "source": [
    "date=dt.datetime(2023,10,6,9,12,30)"
   ]
  },
  {
   "cell_type": "code",
   "execution_count": 68,
   "id": "ebeb4807",
   "metadata": {},
   "outputs": [
    {
     "data": {
      "text/plain": [
       "2023"
      ]
     },
     "execution_count": 68,
     "metadata": {},
     "output_type": "execute_result"
    }
   ],
   "source": [
    "date.year"
   ]
  },
  {
   "cell_type": "code",
   "execution_count": 69,
   "id": "2e9b2d1f",
   "metadata": {},
   "outputs": [
    {
     "data": {
      "text/plain": [
       "10"
      ]
     },
     "execution_count": 69,
     "metadata": {},
     "output_type": "execute_result"
    }
   ],
   "source": [
    "date.month"
   ]
  },
  {
   "cell_type": "code",
   "execution_count": 70,
   "id": "101ec809",
   "metadata": {},
   "outputs": [
    {
     "data": {
      "text/plain": [
       "6"
      ]
     },
     "execution_count": 70,
     "metadata": {},
     "output_type": "execute_result"
    }
   ],
   "source": [
    "date.day"
   ]
  },
  {
   "cell_type": "code",
   "execution_count": 71,
   "id": "80101c4c",
   "metadata": {},
   "outputs": [
    {
     "data": {
      "text/plain": [
       "9"
      ]
     },
     "execution_count": 71,
     "metadata": {},
     "output_type": "execute_result"
    }
   ],
   "source": [
    "date.hour"
   ]
  },
  {
   "cell_type": "code",
   "execution_count": 90,
   "id": "dc5fde0a",
   "metadata": {},
   "outputs": [
    {
     "data": {
      "text/plain": [
       "Timestamp('2023-12-20 17:10:23')"
      ]
     },
     "execution_count": 90,
     "metadata": {},
     "output_type": "execute_result"
    }
   ],
   "source": [
    "pd.Timestamp(\"2023-10-23\")\n",
    "pd.Timestamp(\"2023/10/23\")\n",
    "pd.Timestamp(\"2023, 10, 23\")\n",
    "pd.Timestamp(\"4/12/2023\")\n",
    "pd.Timestamp('12/20/2023')\n",
    "pd.Timestamp('12/20/2023 9:21:23')\n",
    "pd.Timestamp('12/20/2023 5:10:23 PM')"
   ]
  },
  {
   "cell_type": "code",
   "execution_count": 94,
   "id": "4fac41af",
   "metadata": {},
   "outputs": [
    {
     "data": {
      "text/plain": [
       "Timestamp('2023-01-14 07:30:12')"
      ]
     },
     "execution_count": 94,
     "metadata": {},
     "output_type": "execute_result"
    }
   ],
   "source": [
    "pd.Timestamp(dt.date(2023,1,14))\n",
    "pd.Timestamp(dt.datetime(2023,1,14,7,30,12))"
   ]
  },
  {
   "cell_type": "code",
   "execution_count": 96,
   "id": "770404fc",
   "metadata": {},
   "outputs": [],
   "source": [
    "dates=['2023-01-10','2023-01-12','2023-01-20']\n",
    "dates=[dt.date(2023,1,10),dt.date(2023,1,12),dt.date(2023,1,20)]"
   ]
  },
  {
   "cell_type": "code",
   "execution_count": 103,
   "id": "bbe731b3",
   "metadata": {},
   "outputs": [],
   "source": [
    "dtIndex=pd.DatetimeIndex(dates)"
   ]
  },
  {
   "cell_type": "code",
   "execution_count": 105,
   "id": "62dcac44",
   "metadata": {},
   "outputs": [],
   "source": [
    "values=[100,200,300]"
   ]
  },
  {
   "cell_type": "code",
   "execution_count": 106,
   "id": "c5c662c9",
   "metadata": {},
   "outputs": [
    {
     "data": {
      "text/plain": [
       "2023-01-10    100\n",
       "2023-01-12    200\n",
       "2023-01-20    300\n",
       "dtype: int64"
      ]
     },
     "execution_count": 106,
     "metadata": {},
     "output_type": "execute_result"
    }
   ],
   "source": [
    "pd.Series(data=values,index=dtIndex)"
   ]
  },
  {
   "cell_type": "code",
   "execution_count": 113,
   "id": "f6bf9552",
   "metadata": {},
   "outputs": [
    {
     "data": {
      "text/plain": [
       "DatetimeIndex(['2023-01-20', '2023-01-20', '2023-10-06', '2023-10-05',\n",
       "               '2021-01-01'],\n",
       "              dtype='datetime64[ns]', freq=None)"
      ]
     },
     "execution_count": 113,
     "metadata": {},
     "output_type": "execute_result"
    }
   ],
   "source": [
    "pd.to_datetime('2023-01-23')\n",
    "pd.to_datetime(dt.date(2023,1,1))\n",
    "pd.to_datetime(dt.datetime(2023,1,1,5,30,10))\n",
    "pd.to_datetime([\"2023-01-20\",\"2023/1/20\",\"6th Oct, 2023\",\"Oct 5th, 2023\",\"2021\"])"
   ]
  },
  {
   "cell_type": "code",
   "execution_count": 114,
   "id": "4edeef7e",
   "metadata": {},
   "outputs": [],
   "source": [
    "times=pd.Series([\"2019-7-20\",\"2019-8-12\",\"6th Nov, 2019\",\"Ram Ram\",\"2015-02-31\"])"
   ]
  },
  {
   "cell_type": "code",
   "execution_count": 116,
   "id": "45d3ff79",
   "metadata": {},
   "outputs": [
    {
     "data": {
      "text/plain": [
       "0   2019-07-20\n",
       "1   2019-08-12\n",
       "2   2019-11-06\n",
       "3          NaT\n",
       "4          NaT\n",
       "dtype: datetime64[ns]"
      ]
     },
     "execution_count": 116,
     "metadata": {},
     "output_type": "execute_result"
    }
   ],
   "source": [
    "pd.to_datetime(times,errors='coerce')"
   ]
  },
  {
   "cell_type": "code",
   "execution_count": null,
   "id": "204dc5ec",
   "metadata": {},
   "outputs": [],
   "source": []
  }
 ],
 "metadata": {
  "kernelspec": {
   "display_name": "Python 3 (ipykernel)",
   "language": "python",
   "name": "python3"
  },
  "language_info": {
   "codemirror_mode": {
    "name": "ipython",
    "version": 3
   },
   "file_extension": ".py",
   "mimetype": "text/x-python",
   "name": "python",
   "nbconvert_exporter": "python",
   "pygments_lexer": "ipython3",
   "version": "3.9.13"
  }
 },
 "nbformat": 4,
 "nbformat_minor": 5
}
