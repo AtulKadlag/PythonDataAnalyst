{
 "cells": [
  {
   "cell_type": "code",
   "execution_count": 37,
   "id": "fb5742b4",
   "metadata": {},
   "outputs": [],
   "source": [
    "import pyodbc\n",
    "import pandas as pd"
   ]
  },
  {
   "cell_type": "code",
   "execution_count": 38,
   "id": "25a3e02f",
   "metadata": {},
   "outputs": [],
   "source": [
    "cnxn_str = (\"Driver={SQL Server Native Client 11.0};\"\n",
    "            \"Server=LAPTOP-OSB9U57H;\"\n",
    "            \"Database=AdventureWorks2019;\"\n",
    "            \"Trusted_Connection=yes;\")\n",
    "\n",
    "cnxn = pyodbc.connect(cnxn_str)"
   ]
  },
  {
   "cell_type": "code",
   "execution_count": 39,
   "id": "0465a911",
   "metadata": {},
   "outputs": [],
   "source": [
    "cursor= cnxn.cursor()"
   ]
  },
  {
   "cell_type": "code",
   "execution_count": 44,
   "id": "c2427d4b",
   "metadata": {},
   "outputs": [],
   "source": [
    "query=cursor.execute(\"INSERT INTO customers (customerid, customerName,ContactName,Country) values (6,'Atul','atulk','Bharat')\")"
   ]
  },
  {
   "cell_type": "code",
   "execution_count": 45,
   "id": "20480cdc",
   "metadata": {},
   "outputs": [],
   "source": [
    "cursor.commit()"
   ]
  },
  {
   "cell_type": "code",
   "execution_count": 47,
   "id": "93805a17",
   "metadata": {},
   "outputs": [
    {
     "name": "stderr",
     "output_type": "stream",
     "text": [
      "C:\\Users\\AtulKadlag\\Anaconda3\\lib\\site-packages\\pandas\\io\\sql.py:762: UserWarning: pandas only support SQLAlchemy connectable(engine/connection) ordatabase string URI or sqlite3 DBAPI2 connectionother DBAPI2 objects are not tested, please consider using SQLAlchemy\n",
      "  warnings.warn(\n"
     ]
    }
   ],
   "source": [
    "data= pd.read_sql(\"Select * from customers\",cnxn)"
   ]
  },
  {
   "cell_type": "code",
   "execution_count": 48,
   "id": "354f52d0",
   "metadata": {},
   "outputs": [
    {
     "data": {
      "text/html": [
       "<div>\n",
       "<style scoped>\n",
       "    .dataframe tbody tr th:only-of-type {\n",
       "        vertical-align: middle;\n",
       "    }\n",
       "\n",
       "    .dataframe tbody tr th {\n",
       "        vertical-align: top;\n",
       "    }\n",
       "\n",
       "    .dataframe thead th {\n",
       "        text-align: right;\n",
       "    }\n",
       "</style>\n",
       "<table border=\"1\" class=\"dataframe\">\n",
       "  <thead>\n",
       "    <tr style=\"text-align: right;\">\n",
       "      <th></th>\n",
       "      <th>CustomerID</th>\n",
       "      <th>CustomerName</th>\n",
       "      <th>ContactName</th>\n",
       "      <th>Country</th>\n",
       "    </tr>\n",
       "  </thead>\n",
       "  <tbody>\n",
       "    <tr>\n",
       "      <th>0</th>\n",
       "      <td>1</td>\n",
       "      <td>Valued Customer</td>\n",
       "      <td>John Smith</td>\n",
       "      <td>USA</td>\n",
       "    </tr>\n",
       "    <tr>\n",
       "      <th>1</th>\n",
       "      <td>2</td>\n",
       "      <td>Atul</td>\n",
       "      <td>Alice Johnson</td>\n",
       "      <td>India</td>\n",
       "    </tr>\n",
       "    <tr>\n",
       "      <th>2</th>\n",
       "      <td>3</td>\n",
       "      <td>Valued Customer</td>\n",
       "      <td>David Lee</td>\n",
       "      <td>UK</td>\n",
       "    </tr>\n",
       "    <tr>\n",
       "      <th>3</th>\n",
       "      <td>4</td>\n",
       "      <td>Valued Customer</td>\n",
       "      <td>Maria Rodriguez</td>\n",
       "      <td>Spain</td>\n",
       "    </tr>\n",
       "    <tr>\n",
       "      <th>4</th>\n",
       "      <td>5</td>\n",
       "      <td>Valued Customer</td>\n",
       "      <td>Mohammed Ahmed</td>\n",
       "      <td>Egypt</td>\n",
       "    </tr>\n",
       "    <tr>\n",
       "      <th>5</th>\n",
       "      <td>6</td>\n",
       "      <td>Atul</td>\n",
       "      <td>atulk</td>\n",
       "      <td>Bharat</td>\n",
       "    </tr>\n",
       "  </tbody>\n",
       "</table>\n",
       "</div>"
      ],
      "text/plain": [
       "   CustomerID     CustomerName      ContactName Country\n",
       "0           1  Valued Customer       John Smith     USA\n",
       "1           2             Atul    Alice Johnson   India\n",
       "2           3  Valued Customer        David Lee      UK\n",
       "3           4  Valued Customer  Maria Rodriguez   Spain\n",
       "4           5  Valued Customer   Mohammed Ahmed   Egypt\n",
       "5           6             Atul            atulk  Bharat"
      ]
     },
     "execution_count": 48,
     "metadata": {},
     "output_type": "execute_result"
    }
   ],
   "source": [
    "data"
   ]
  },
  {
   "cell_type": "code",
   "execution_count": 49,
   "id": "9800b00e",
   "metadata": {},
   "outputs": [],
   "source": [
    "query=cursor.execute(\"UPDATE customers set CustomerName='Sachin' where CustomerID = 3\")"
   ]
  },
  {
   "cell_type": "code",
   "execution_count": 50,
   "id": "2b6a8c88",
   "metadata": {},
   "outputs": [],
   "source": [
    "cursor.commit()"
   ]
  },
  {
   "cell_type": "code",
   "execution_count": 51,
   "id": "1200ce08",
   "metadata": {},
   "outputs": [],
   "source": [
    "query=cursor.execute(\"DELETE from customers where CustomerID = 6\")"
   ]
  },
  {
   "cell_type": "code",
   "execution_count": 52,
   "id": "553e7565",
   "metadata": {},
   "outputs": [],
   "source": [
    "cursor.commit()"
   ]
  },
  {
   "cell_type": "code",
   "execution_count": null,
   "id": "ba054610",
   "metadata": {},
   "outputs": [],
   "source": []
  }
 ],
 "metadata": {
  "kernelspec": {
   "display_name": "Python 3 (ipykernel)",
   "language": "python",
   "name": "python3"
  },
  "language_info": {
   "codemirror_mode": {
    "name": "ipython",
    "version": 3
   },
   "file_extension": ".py",
   "mimetype": "text/x-python",
   "name": "python",
   "nbconvert_exporter": "python",
   "pygments_lexer": "ipython3",
   "version": "3.9.13"
  }
 },
 "nbformat": 4,
 "nbformat_minor": 5
}
