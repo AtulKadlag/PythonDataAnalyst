{
 "cells": [
  {
   "cell_type": "code",
   "execution_count": 36,
   "id": "4f9d29b8",
   "metadata": {},
   "outputs": [],
   "source": [
    "import pandas as pd"
   ]
  },
  {
   "cell_type": "code",
   "execution_count": 39,
   "id": "7b65b4dc",
   "metadata": {},
   "outputs": [
    {
     "data": {
      "text/plain": [
       "DatetimeIndex(['2023-09-01', '2023-09-02', '2023-09-03', '2023-09-04',\n",
       "               '2023-09-05', '2023-09-06', '2023-09-07', '2023-09-08',\n",
       "               '2023-09-09', '2023-09-10'],\n",
       "              dtype='datetime64[ns]', freq='D')"
      ]
     },
     "execution_count": 39,
     "metadata": {},
     "output_type": "execute_result"
    }
   ],
   "source": [
    "pd.date_range(start=\"09/1/2023\",end=\"09/10/2023\",freq=\"D\")"
   ]
  },
  {
   "cell_type": "code",
   "execution_count": 50,
   "id": "dd12bb04",
   "metadata": {},
   "outputs": [
    {
     "data": {
      "text/plain": [
       "DatetimeIndex(['2023-09-01', '2023-09-04', '2023-09-05', '2023-09-06',\n",
       "               '2023-09-07', '2023-09-08'],\n",
       "              dtype='datetime64[ns]', freq='B')"
      ]
     },
     "execution_count": 50,
     "metadata": {},
     "output_type": "execute_result"
    }
   ],
   "source": [
    "pd.date_range(start=\"09/1/2023\",end=\"09/10/2023\",freq=\"B\")"
   ]
  },
  {
   "cell_type": "code",
   "execution_count": 58,
   "id": "8ef94866",
   "metadata": {},
   "outputs": [
    {
     "data": {
      "text/plain": [
       "DatetimeIndex(['2023-12-31', '2024-12-31', '2025-12-31', '2026-12-31',\n",
       "               '2027-12-31', '2028-12-31', '2029-12-31', '2030-12-31',\n",
       "               '2031-12-31', '2032-12-31', '2033-12-31', '2034-12-31',\n",
       "               '2035-12-31', '2036-12-31', '2037-12-31', '2038-12-31',\n",
       "               '2039-12-31', '2040-12-31', '2041-12-31', '2042-12-31',\n",
       "               '2043-12-31', '2044-12-31', '2045-12-31', '2046-12-31',\n",
       "               '2047-12-31', '2048-12-31', '2049-12-31', '2050-12-31',\n",
       "               '2051-12-31', '2052-12-31', '2053-12-31', '2054-12-31',\n",
       "               '2055-12-31', '2056-12-31', '2057-12-31', '2058-12-31',\n",
       "               '2059-12-31', '2060-12-31', '2061-12-31', '2062-12-31',\n",
       "               '2063-12-31', '2064-12-31', '2065-12-31', '2066-12-31',\n",
       "               '2067-12-31', '2068-12-31', '2069-12-31', '2070-12-31',\n",
       "               '2071-12-31', '2072-12-31'],\n",
       "              dtype='datetime64[ns]', freq='A-DEC')"
      ]
     },
     "execution_count": 58,
     "metadata": {},
     "output_type": "execute_result"
    }
   ],
   "source": [
    "pd.date_range(start=\"09/01/2023\",periods=50,freq=\"A\")"
   ]
  },
  {
   "cell_type": "code",
   "execution_count": 63,
   "id": "265219c4",
   "metadata": {},
   "outputs": [
    {
     "data": {
      "text/plain": [
       "DatetimeIndex(['2023-12-18', '2023-12-19', '2023-12-20', '2023-12-21',\n",
       "               '2023-12-22', '2023-12-25', '2023-12-26', '2023-12-27',\n",
       "               '2023-12-28', '2023-12-29'],\n",
       "              dtype='datetime64[ns]', freq='B')"
      ]
     },
     "execution_count": 63,
     "metadata": {},
     "output_type": "execute_result"
    }
   ],
   "source": [
    "pd.date_range(end=\"12/31/2023\",periods=10,freq=\"B\")"
   ]
  },
  {
   "cell_type": "code",
   "execution_count": null,
   "id": "32b0291c",
   "metadata": {},
   "outputs": [],
   "source": []
  }
 ],
 "metadata": {
  "kernelspec": {
   "display_name": "Python 3 (ipykernel)",
   "language": "python",
   "name": "python3"
  },
  "language_info": {
   "codemirror_mode": {
    "name": "ipython",
    "version": 3
   },
   "file_extension": ".py",
   "mimetype": "text/x-python",
   "name": "python",
   "nbconvert_exporter": "python",
   "pygments_lexer": "ipython3",
   "version": "3.9.13"
  }
 },
 "nbformat": 4,
 "nbformat_minor": 5
}
