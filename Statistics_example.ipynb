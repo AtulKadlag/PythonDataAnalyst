{
 "cells": [
  {
   "cell_type": "code",
   "execution_count": 5,
   "id": "e2253247",
   "metadata": {},
   "outputs": [],
   "source": [
    "import pandas as pd\n",
    "import matplotlib.pyplot as plt\n",
    "import seaborn as sns\n",
    "from numpy import sqrt, arange\n",
    "from scipy import stats\n",
    "%matplotlib inline\n",
    "\n",
    "\n"
   ]
  },
  {
   "cell_type": "code",
   "execution_count": 34,
   "id": "2602617b",
   "metadata": {},
   "outputs": [
    {
     "data": {
      "text/plain": [
       "3.0"
      ]
     },
     "execution_count": 34,
     "metadata": {},
     "output_type": "execute_result"
    }
   ],
   "source": [
    "sqrt(9)"
   ]
  },
  {
   "cell_type": "code",
   "execution_count": 6,
   "id": "b299f0c3",
   "metadata": {},
   "outputs": [],
   "source": [
    "student= pd.read_csv('student_data.csv',sep=\";\")"
   ]
  },
  {
   "cell_type": "code",
   "execution_count": 7,
   "id": "a70aa575",
   "metadata": {},
   "outputs": [
    {
     "data": {
      "text/html": [
       "<div>\n",
       "<style scoped>\n",
       "    .dataframe tbody tr th:only-of-type {\n",
       "        vertical-align: middle;\n",
       "    }\n",
       "\n",
       "    .dataframe tbody tr th {\n",
       "        vertical-align: top;\n",
       "    }\n",
       "\n",
       "    .dataframe thead th {\n",
       "        text-align: right;\n",
       "    }\n",
       "</style>\n",
       "<table border=\"1\" class=\"dataframe\">\n",
       "  <thead>\n",
       "    <tr style=\"text-align: right;\">\n",
       "      <th></th>\n",
       "      <th>school</th>\n",
       "      <th>gender</th>\n",
       "      <th>age</th>\n",
       "      <th>address</th>\n",
       "      <th>famsize</th>\n",
       "      <th>Pstatus</th>\n",
       "      <th>Medu</th>\n",
       "      <th>Fedu</th>\n",
       "      <th>Mjob</th>\n",
       "      <th>Fjob</th>\n",
       "      <th>...</th>\n",
       "      <th>famrel</th>\n",
       "      <th>freetime</th>\n",
       "      <th>goout</th>\n",
       "      <th>Dbev</th>\n",
       "      <th>Wbev</th>\n",
       "      <th>health</th>\n",
       "      <th>absences</th>\n",
       "      <th>G1</th>\n",
       "      <th>G2</th>\n",
       "      <th>G3</th>\n",
       "    </tr>\n",
       "  </thead>\n",
       "  <tbody>\n",
       "    <tr>\n",
       "      <th>0</th>\n",
       "      <td>GP</td>\n",
       "      <td>F</td>\n",
       "      <td>18</td>\n",
       "      <td>U</td>\n",
       "      <td>GT3</td>\n",
       "      <td>A</td>\n",
       "      <td>4</td>\n",
       "      <td>4</td>\n",
       "      <td>at_home</td>\n",
       "      <td>teacher</td>\n",
       "      <td>...</td>\n",
       "      <td>4</td>\n",
       "      <td>3</td>\n",
       "      <td>4</td>\n",
       "      <td>1</td>\n",
       "      <td>1</td>\n",
       "      <td>3</td>\n",
       "      <td>4</td>\n",
       "      <td>0</td>\n",
       "      <td>11</td>\n",
       "      <td>11</td>\n",
       "    </tr>\n",
       "    <tr>\n",
       "      <th>1</th>\n",
       "      <td>GP</td>\n",
       "      <td>F</td>\n",
       "      <td>17</td>\n",
       "      <td>U</td>\n",
       "      <td>GT3</td>\n",
       "      <td>T</td>\n",
       "      <td>1</td>\n",
       "      <td>1</td>\n",
       "      <td>at_home</td>\n",
       "      <td>other</td>\n",
       "      <td>...</td>\n",
       "      <td>5</td>\n",
       "      <td>3</td>\n",
       "      <td>3</td>\n",
       "      <td>1</td>\n",
       "      <td>1</td>\n",
       "      <td>3</td>\n",
       "      <td>2</td>\n",
       "      <td>9</td>\n",
       "      <td>11</td>\n",
       "      <td>11</td>\n",
       "    </tr>\n",
       "    <tr>\n",
       "      <th>2</th>\n",
       "      <td>GP</td>\n",
       "      <td>F</td>\n",
       "      <td>15</td>\n",
       "      <td>U</td>\n",
       "      <td>LE3</td>\n",
       "      <td>T</td>\n",
       "      <td>1</td>\n",
       "      <td>1</td>\n",
       "      <td>at_home</td>\n",
       "      <td>other</td>\n",
       "      <td>...</td>\n",
       "      <td>4</td>\n",
       "      <td>3</td>\n",
       "      <td>2</td>\n",
       "      <td>2</td>\n",
       "      <td>3</td>\n",
       "      <td>3</td>\n",
       "      <td>6</td>\n",
       "      <td>12</td>\n",
       "      <td>13</td>\n",
       "      <td>12</td>\n",
       "    </tr>\n",
       "    <tr>\n",
       "      <th>3</th>\n",
       "      <td>GP</td>\n",
       "      <td>F</td>\n",
       "      <td>15</td>\n",
       "      <td>U</td>\n",
       "      <td>GT3</td>\n",
       "      <td>T</td>\n",
       "      <td>4</td>\n",
       "      <td>2</td>\n",
       "      <td>health</td>\n",
       "      <td>services</td>\n",
       "      <td>...</td>\n",
       "      <td>3</td>\n",
       "      <td>2</td>\n",
       "      <td>2</td>\n",
       "      <td>1</td>\n",
       "      <td>1</td>\n",
       "      <td>5</td>\n",
       "      <td>0</td>\n",
       "      <td>14</td>\n",
       "      <td>14</td>\n",
       "      <td>14</td>\n",
       "    </tr>\n",
       "    <tr>\n",
       "      <th>4</th>\n",
       "      <td>GP</td>\n",
       "      <td>F</td>\n",
       "      <td>16</td>\n",
       "      <td>U</td>\n",
       "      <td>GT3</td>\n",
       "      <td>T</td>\n",
       "      <td>3</td>\n",
       "      <td>3</td>\n",
       "      <td>other</td>\n",
       "      <td>other</td>\n",
       "      <td>...</td>\n",
       "      <td>4</td>\n",
       "      <td>3</td>\n",
       "      <td>2</td>\n",
       "      <td>1</td>\n",
       "      <td>2</td>\n",
       "      <td>5</td>\n",
       "      <td>0</td>\n",
       "      <td>11</td>\n",
       "      <td>13</td>\n",
       "      <td>13</td>\n",
       "    </tr>\n",
       "  </tbody>\n",
       "</table>\n",
       "<p>5 rows × 33 columns</p>\n",
       "</div>"
      ],
      "text/plain": [
       "  school gender  age address famsize Pstatus  Medu  Fedu     Mjob      Fjob  \\\n",
       "0     GP      F   18       U     GT3       A     4     4  at_home   teacher   \n",
       "1     GP      F   17       U     GT3       T     1     1  at_home     other   \n",
       "2     GP      F   15       U     LE3       T     1     1  at_home     other   \n",
       "3     GP      F   15       U     GT3       T     4     2   health  services   \n",
       "4     GP      F   16       U     GT3       T     3     3    other     other   \n",
       "\n",
       "   ... famrel freetime  goout  Dbev  Wbev health absences  G1  G2  G3  \n",
       "0  ...      4        3      4     1     1      3        4   0  11  11  \n",
       "1  ...      5        3      3     1     1      3        2   9  11  11  \n",
       "2  ...      4        3      2     2     3      3        6  12  13  12  \n",
       "3  ...      3        2      2     1     1      5        0  14  14  14  \n",
       "4  ...      4        3      2     1     2      5        0  11  13  13  \n",
       "\n",
       "[5 rows x 33 columns]"
      ]
     },
     "execution_count": 7,
     "metadata": {},
     "output_type": "execute_result"
    }
   ],
   "source": [
    "student.head()"
   ]
  },
  {
   "cell_type": "code",
   "execution_count": 10,
   "id": "3513f3d6",
   "metadata": {},
   "outputs": [
    {
     "data": {
      "text/plain": [
       "(649, 34)"
      ]
     },
     "execution_count": 10,
     "metadata": {},
     "output_type": "execute_result"
    }
   ],
   "source": [
    "student.shape"
   ]
  },
  {
   "cell_type": "code",
   "execution_count": 14,
   "id": "0682057c",
   "metadata": {},
   "outputs": [],
   "source": [
    "student['beverage_index'] = (5* student['Dbev'] + 2*student['Wbev'])/7 "
   ]
  },
  {
   "cell_type": "code",
   "execution_count": 15,
   "id": "e9b442c3",
   "metadata": {},
   "outputs": [
    {
     "data": {
      "text/plain": [
       "0      1.000000\n",
       "1      1.000000\n",
       "2      2.285714\n",
       "3      1.000000\n",
       "4      1.285714\n",
       "         ...   \n",
       "644    1.285714\n",
       "645    1.000000\n",
       "646    1.000000\n",
       "647    3.285714\n",
       "648    3.285714\n",
       "Name: beverage_index, Length: 649, dtype: float64"
      ]
     },
     "execution_count": 15,
     "metadata": {},
     "output_type": "execute_result"
    }
   ],
   "source": [
    "student['beverage_index']"
   ]
  },
  {
   "cell_type": "code",
   "execution_count": 18,
   "id": "b6154094",
   "metadata": {},
   "outputs": [],
   "source": [
    "student['bev'] = student['beverage_index'] <= 2"
   ]
  },
  {
   "cell_type": "code",
   "execution_count": 19,
   "id": "ad084d56",
   "metadata": {},
   "outputs": [
    {
     "data": {
      "text/plain": [
       "0       True\n",
       "1       True\n",
       "2      False\n",
       "3       True\n",
       "4       True\n",
       "       ...  \n",
       "644     True\n",
       "645     True\n",
       "646     True\n",
       "647    False\n",
       "648    False\n",
       "Name: bev, Length: 649, dtype: bool"
      ]
     },
     "execution_count": 19,
     "metadata": {},
     "output_type": "execute_result"
    }
   ],
   "source": [
    "student['bev']"
   ]
  },
  {
   "cell_type": "code",
   "execution_count": 20,
   "id": "7e7e1a34",
   "metadata": {},
   "outputs": [],
   "source": [
    "student['bev'] =student['bev'].map({True:'Low',False:'High'})"
   ]
  },
  {
   "cell_type": "code",
   "execution_count": 49,
   "id": "12d8886b",
   "metadata": {},
   "outputs": [
    {
     "data": {
      "text/plain": [
       "0       Low\n",
       "1       Low\n",
       "2      High\n",
       "3       Low\n",
       "4       Low\n",
       "       ... \n",
       "644     Low\n",
       "645     Low\n",
       "646     Low\n",
       "647    High\n",
       "648    High\n",
       "Name: bev, Length: 649, dtype: object"
      ]
     },
     "execution_count": 49,
     "metadata": {},
     "output_type": "execute_result"
    }
   ],
   "source": [
    "student['bev']"
   ]
  },
  {
   "cell_type": "code",
   "execution_count": null,
   "id": "88e675cb",
   "metadata": {},
   "outputs": [],
   "source": [
    "#confidence Interval\n",
    "#Central limit Theorem\n",
    "\n",
    "# To get the confidence interval for the mean we need three numbers:\n",
    "\n",
    "  #  1. Sample mean\n",
    "  #  2. Standard error\n",
    "  #  3. Confidence level\n",
    "    \n",
    "    #formula = s/sqrt(sample_size)\n",
    "    \n",
    "    "
   ]
  },
  {
   "cell_type": "code",
   "execution_count": 21,
   "id": "3b8b5fb9",
   "metadata": {},
   "outputs": [
    {
     "name": "stdout",
     "output_type": "stream",
     "text": [
      "649\n"
     ]
    }
   ],
   "source": [
    "sample_size=student.shape[0]\n",
    "print(sample_size)"
   ]
  },
  {
   "cell_type": "code",
   "execution_count": 22,
   "id": "5706253d",
   "metadata": {},
   "outputs": [
    {
     "data": {
      "text/plain": [
       "11.906009244992296"
      ]
     },
     "execution_count": 22,
     "metadata": {},
     "output_type": "execute_result"
    }
   ],
   "source": [
    "sample_mean_grade =student['G3'].mean()\n",
    "sample_mean_grade"
   ]
  },
  {
   "cell_type": "code",
   "execution_count": 24,
   "id": "bc80298d",
   "metadata": {},
   "outputs": [],
   "source": [
    "std_error_grades = student['G3'].std()/sqrt(sample_size)"
   ]
  },
  {
   "cell_type": "code",
   "execution_count": 25,
   "id": "8f1ea956",
   "metadata": {},
   "outputs": [
    {
     "data": {
      "text/plain": [
       "0.126814350307949"
      ]
     },
     "execution_count": 25,
     "metadata": {},
     "output_type": "execute_result"
    }
   ],
   "source": [
    "std_error_grades"
   ]
  },
  {
   "cell_type": "code",
   "execution_count": 26,
   "id": "adcb9c7e",
   "metadata": {},
   "outputs": [
    {
     "data": {
      "text/plain": [
       "(11.65745768566587, 12.154560804318722)"
      ]
     },
     "execution_count": 26,
     "metadata": {},
     "output_type": "execute_result"
    }
   ],
   "source": [
    "stats.norm.interval(0.95, loc=sample_mean_grade, scale=std_error_grades)"
   ]
  },
  {
   "cell_type": "code",
   "execution_count": null,
   "id": "0b4bf91a",
   "metadata": {},
   "outputs": [],
   "source": [
    "# \"Does beverage consumption affect Academic performance?\"\n",
    "\n",
    "\n",
    "#Null Hypothesis\n",
    "#Alternative Hypothesis\n",
    "\n",
    "#steps:\n",
    "\n",
    "#1 Signficance level \"alpha\" 5% or 0.05  OR 0.1 or 0.01 or 10%\n",
    "#2 p-value  - compare this value with alpha value\n",
    "#3 reject or accept the hypothesis\n",
    "#4 final implication of results to original question.\n",
    "\n",
    "#statistical test\n"
   ]
  },
  {
   "cell_type": "code",
   "execution_count": 42,
   "id": "64a2c2ef",
   "metadata": {},
   "outputs": [],
   "source": [
    "grades_low_bev= student['G3'][student['bev']=='Low']\n",
    "grades_high_bev = student['G3'][student['bev']=='High']"
   ]
  },
  {
   "cell_type": "code",
   "execution_count": 44,
   "id": "20c0e065",
   "metadata": {},
   "outputs": [
    {
     "data": {
      "text/plain": [
       "BartlettResult(statistic=1.1025085913378183, pvalue=0.29371623181175127)"
      ]
     },
     "execution_count": 44,
     "metadata": {},
     "output_type": "execute_result"
    }
   ],
   "source": [
    "stats.bartlett(grades_low_bev,grades_high_bev)"
   ]
  },
  {
   "cell_type": "code",
   "execution_count": 49,
   "id": "1895f123",
   "metadata": {},
   "outputs": [
    {
     "data": {
      "text/plain": [
       "<AxesSubplot:xlabel='bev', ylabel='G3'>"
      ]
     },
     "execution_count": 49,
     "metadata": {},
     "output_type": "execute_result"
    },
    {
     "data": {
      "image/png": "[encoded data removed]",
      "text/plain": [
       "<Figure size 1400x400 with 2 Axes>"
      ]
     },
     "metadata": {},
     "output_type": "display_data"
    }
   ],
   "source": [
    "fig, axes = plt.subplots(1,2, figsize = (14,4))\n",
    "sns.boxplot(x='bev',y='G3', data =student, ax=axes[0])\n",
    "sns.pointplot(x='bev',y='G3', data =student, ax=axes[1])"
   ]
  },
  {
   "cell_type": "code",
   "execution_count": 50,
   "id": "b657d91d",
   "metadata": {},
   "outputs": [
    {
     "data": {
      "text/plain": [
       "Ttest_indResult(statistic=4.621320706949354, pvalue=4.603608830369269e-06)"
      ]
     },
     "execution_count": 50,
     "metadata": {},
     "output_type": "execute_result"
    }
   ],
   "source": [
    "#Null Hypothesis - the population means of the final grades are equal\n",
    "#alternative Hypothesis - the population means of the final grades are different\n",
    "\n",
    "stats.ttest_ind(grades_low_bev, grades_high_bev, equal_var=True)"
   ]
  },
  {
   "cell_type": "code",
   "execution_count": null,
   "id": "47134c4a",
   "metadata": {},
   "outputs": [],
   "source": [
    "\n",
    "# there is a statistically significant difference between the grades of the two analyzed groups. \n",
    "#Since the mean for the group with high beverage consumption is less than the mean for the other group,\n",
    "#the results suggest that beverage consumption has a negative impact on the students' academic performance."
   ]
  }
 ],
 "metadata": {
  "kernelspec": {
   "display_name": "Python 3 (ipykernel)",
   "language": "python",
   "name": "python3"
  },
  "language_info": {
   "codemirror_mode": {
    "name": "ipython",
    "version": 3
   },
   "file_extension": ".py",
   "mimetype": "text/x-python",
   "name": "python",
   "nbconvert_exporter": "python",
   "pygments_lexer": "ipython3",
   "version": "3.9.13"
  }
 },
 "nbformat": 4,
 "nbformat_minor": 5
}
